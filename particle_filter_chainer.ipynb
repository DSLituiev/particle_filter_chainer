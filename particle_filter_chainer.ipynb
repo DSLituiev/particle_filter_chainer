{
 "cells": [
  {
   "cell_type": "code",
   "execution_count": null,
   "metadata": {
    "collapsed": false
   },
   "outputs": [],
   "source": [
    "from chainer import __version__\n",
    "print(__version__)"
   ]
  },
  {
   "cell_type": "code",
   "execution_count": null,
   "metadata": {
    "collapsed": true
   },
   "outputs": [],
   "source": [
    "\"\"\"Stack overflow question\"\"\""
   ]
  },
  {
   "cell_type": "markdown",
   "metadata": {},
   "source": [
    "For simplicity consider a linear control system:\n",
    "\n",
    "$$\\frac{d \\mathbf{x}}{dt} =  W \\, \\mathbf{x} +  \\mathbf{b}$$\n",
    "\n",
    "where **`x`** is `M x 1` vector.\n",
    "Our desired state is $\\mathbf{x}_{desired}$ to be achieved in in `T` steps. Loss function:\n",
    "\n",
    "$$||\\mathbf{x}_{desired} - \\mathbf{x}_T||_2^2$$\n",
    "\n"
   ]
  },
  {
   "cell_type": "markdown",
   "metadata": {},
   "source": [
    "##Sandbox\n",
    "Write down one step for the control equation and check how gradient w.r.t to parameters  is calculated"
   ]
  },
  {
   "cell_type": "code",
   "execution_count": null,
   "metadata": {
    "collapsed": false
   },
   "outputs": [],
   "source": [
    "from  chainer import Variable\n",
    "import chainer.functions as F\n",
    "import numpy as np\n",
    "\n",
    "def V(x):\n",
    "    return Variable(x.astype(np.float32))\n",
    "\n",
    "N = 100\n",
    "M = 2\n",
    "dt = 0.01\n",
    "\n",
    "x = V(np.random.randn(N,M))\n",
    "x_desired = V(np.ones(N).reshape(-1,1) * np.r_[3,4])\n",
    "\n",
    "\"\"\"Write down one step for the control equation and check how gradient w.r.t to parameters  is calculated\"\"\"\n",
    "\"\"\" d**x**/dt =  W **x** + **b** \"\"\"\n",
    "\n",
    "lin_control = F.Linear(M, M, initialW=None, initial_bias=None)\n",
    "#quadr_control = lambda x: x**2\n",
    "def explicit_euler_dx(x):\n",
    "    dx = lin_control(x) #+ quadr_control(x)\n",
    "    return dx\n",
    "\n",
    "xout = V(x.data)\n",
    "\n",
    "for tt in range(100):\n",
    "    xout += explicit_euler_dx(x) * dt\n",
    "\"\"\"initial values\"\"\"\n",
    "loss = (xout-x_desired)\n",
    "loss.grad = np.ones( x.data.shape, dtype=np.float32)\n",
    "\n",
    "loss.backward()\n",
    "\n",
    "x.grad[:10]"
   ]
  },
  {
   "cell_type": "markdown",
   "metadata": {},
   "source": [
    "## Set up small chainer system"
   ]
  },
  {
   "cell_type": "code",
   "execution_count": null,
   "metadata": {
    "collapsed": false
   },
   "outputs": [],
   "source": [
    "def explicit_euler_dx(x, handle):\n",
    "    dx = handle(x)\n",
    "    return dx"
   ]
  },
  {
   "cell_type": "markdown",
   "metadata": {},
   "source": [
    "Update function"
   ]
  },
  {
   "cell_type": "code",
   "execution_count": null,
   "metadata": {
    "collapsed": true
   },
   "outputs": [],
   "source": [
    "from chainer import Chain\n",
    "\n",
    "class MyChain(Chain):\n",
    "    def __init__(self, M):\n",
    "        super(MyChain, self).__init__(\n",
    "            l1=F.Linear(M, M, initialW=None, initial_bias=None),\n",
    "        )\n",
    "\n",
    "    def __call__(self, x, T, dt):\n",
    "        xout = V(x.data)\n",
    "        for tt in range(T):\n",
    "            xout += explicit_euler_dx(x, self.l1) * dt\n",
    "        return xout"
   ]
  },
  {
   "cell_type": "markdown",
   "metadata": {},
   "source": [
    "Loss function"
   ]
  },
  {
   "cell_type": "code",
   "execution_count": null,
   "metadata": {
    "collapsed": true
   },
   "outputs": [],
   "source": [
    "class Loss(Chain):\n",
    "    def __init__(self, predictor):\n",
    "        super(Loss, self).__init__(predictor=predictor)\n",
    "        \n",
    "    def __call__(self, x, x_desired, T ,dt):\n",
    "        x_end = self.predictor(x, T, dt)\n",
    "        #x_desired = V(np.ones(x_end.data.shape[0]).reshape(-1,1) * x_desired)\n",
    "        self.loss = F.mean_squared_error(x_desired, x_end)\n",
    "        return self.loss"
   ]
  },
  {
   "cell_type": "code",
   "execution_count": null,
   "metadata": {
    "collapsed": true
   },
   "outputs": [],
   "source": [
    "x_desired = np.r_[3,4]\n",
    "x_desired = V(np.ones(N).reshape(-1,1) * x_desired)"
   ]
  },
  {
   "cell_type": "code",
   "execution_count": null,
   "metadata": {
    "collapsed": false
   },
   "outputs": [],
   "source": [
    "nepochs = 100\n",
    "dt = 0.01\n",
    "for epoch in range(nepochs):\n",
    "    print('epoch %d' % epoch, end = \"\\t\")\n",
    "    x = V(0.01*np.random.randn(N,M))\n",
    "    #model.zerograds()\n",
    "    loss = model( x, x_desired, T, dt)\n",
    "    print(\"loss\", loss.data)\n",
    "    loss.backward()\n",
    "    optimizer.update(model, x, x_desired, T, dt)"
   ]
  },
  {
   "cell_type": "code",
   "execution_count": null,
   "metadata": {
    "collapsed": false
   },
   "outputs": [],
   "source": [
    "print(\"optimal control parameters:\")\n",
    "print(\"W\", \"------------\", model.children().__next__().l1.W.data, sep = \"\\n\")\n",
    "print(\"b\", \"------------\",model.children().__next__().l1.b.data, sep = \"\\n\")"
   ]
  }
 ],
 "metadata": {
  "kernelspec": {
   "display_name": "Python 3",
   "language": "python",
   "name": "python3"
  },
  "language_info": {
   "codemirror_mode": {
    "name": "ipython",
    "version": 3
   },
   "file_extension": ".py",
   "mimetype": "text/x-python",
   "name": "python",
   "nbconvert_exporter": "python",
   "pygments_lexer": "ipython3",
   "version": "3.4.3"
  }
 },
 "nbformat": 4,
 "nbformat_minor": 0
}
