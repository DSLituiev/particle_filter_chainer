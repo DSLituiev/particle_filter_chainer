{
 "cells": [
  {
   "cell_type": "code",
   "execution_count": 1,
   "metadata": {
    "collapsed": false
   },
   "outputs": [
    {
     "name": "stdout",
     "output_type": "stream",
     "text": [
      "1.5.0.2\n"
     ]
    }
   ],
   "source": [
    "from chainer import __version__\n",
    "print(__version__)"
   ]
  },
  {
   "cell_type": "code",
   "execution_count": 23,
   "metadata": {
    "collapsed": true
   },
   "outputs": [],
   "source": [
    "from matplotlib import pyplot as plt\n",
    "%matplotlib inline"
   ]
  },
  {
   "cell_type": "code",
   "execution_count": 2,
   "metadata": {
    "collapsed": false
   },
   "outputs": [
    {
     "data": {
      "text/plain": [
       "'Stack overflow question'"
      ]
     },
     "execution_count": 2,
     "metadata": {},
     "output_type": "execute_result"
    }
   ],
   "source": [
    "\"\"\"Stack overflow question\"\"\""
   ]
  },
  {
   "cell_type": "markdown",
   "metadata": {},
   "source": [
    "For simplicity consider a linear control system:\n",
    "\n",
    "$$\\frac{d \\mathbf{x}}{dt} =  W \\, \\mathbf{x} +  \\mathbf{b}$$\n",
    "\n",
    "where **`x`** is `M x 1` vector.\n",
    "Our desired state is $\\mathbf{x}_{desired}$ to be achieved in in `T` steps. Loss function:\n",
    "\n",
    "$$||\\mathbf{x}_{desired} - \\mathbf{x}_T||_2^2$$\n",
    "\n"
   ]
  },
  {
   "cell_type": "markdown",
   "metadata": {},
   "source": [
    "##Sandbox\n",
    "Write down one step for the control equation and check how gradient w.r.t to parameters  is calculated"
   ]
  },
  {
   "cell_type": "code",
   "execution_count": 3,
   "metadata": {
    "collapsed": false
   },
   "outputs": [
    {
     "data": {
      "text/plain": [
       "array([[-0.34700441, -0.21180075],\n",
       "       [-0.34700441, -0.21180075],\n",
       "       [-0.34700441, -0.21180075],\n",
       "       [-0.34700441, -0.21180075],\n",
       "       [-0.34700441, -0.21180075],\n",
       "       [-0.34700441, -0.21180075],\n",
       "       [-0.34700441, -0.21180075],\n",
       "       [-0.34700441, -0.21180075],\n",
       "       [-0.34700441, -0.21180075],\n",
       "       [-0.34700441, -0.21180075]], dtype=float32)"
      ]
     },
     "execution_count": 3,
     "metadata": {},
     "output_type": "execute_result"
    }
   ],
   "source": [
    "from  chainer import Variable\n",
    "import chainer.functions as F\n",
    "import numpy as np\n",
    "\n",
    "def V(x):\n",
    "    return Variable(x.astype(np.float32))\n",
    "\n",
    "N = 100\n",
    "M = 2\n",
    "dt = 0.01\n",
    "\n",
    "x = V(np.random.randn(N,M))\n",
    "x_desired = V(np.ones(N).reshape(-1,1) * np.r_[3,4])\n",
    "\n",
    "\"\"\"Write down one step for the control equation and check how gradient w.r.t to parameters  is calculated\"\"\"\n",
    "\"\"\" d**x**/dt =  W **x** + **b** \"\"\"\n",
    "\n",
    "lin_control = F.Linear(M, M, initialW=None, initial_bias=None)\n",
    "#quadr_control = lambda x: x**2\n",
    "def explicit_euler_dx(x):\n",
    "    dx = lin_control(x) #+ quadr_control(x)\n",
    "    return dx\n",
    "\n",
    "xout = V(x.data)\n",
    "\n",
    "for tt in range(100):\n",
    "    xout += explicit_euler_dx(x) * dt\n",
    "\"\"\"initial values\"\"\"\n",
    "loss = (xout-x_desired)\n",
    "loss.grad = np.ones( x.data.shape, dtype=np.float32)\n",
    "\n",
    "loss.backward()\n",
    "\n",
    "x.grad[:10]"
   ]
  },
  {
   "cell_type": "markdown",
   "metadata": {},
   "source": [
    "## Set up a small chainer system"
   ]
  },
  {
   "cell_type": "code",
   "execution_count": 53,
   "metadata": {
    "collapsed": false
   },
   "outputs": [],
   "source": [
    "def explicit_euler_dx(x, handle):\n",
    "    dx = handle(x)\n",
    "    return dx"
   ]
  },
  {
   "cell_type": "code",
   "execution_count": 54,
   "metadata": {
    "collapsed": true
   },
   "outputs": [],
   "source": [
    "def integrate_explicit_euler(x, handle, dt, T):\n",
    "    xout = x\n",
    "    for tt in range(T):\n",
    "        xout += explicit_euler_dx(x, handle) * dt\n",
    "    return xout"
   ]
  },
  {
   "cell_type": "markdown",
   "metadata": {},
   "source": [
    "Update function:"
   ]
  },
  {
   "cell_type": "code",
   "execution_count": 29,
   "metadata": {
    "collapsed": true
   },
   "outputs": [],
   "source": [
    "from chainer import Chain\n",
    "\n",
    "class MyChain(Chain):\n",
    "    def __init__(self, M):\n",
    "        super(MyChain, self).__init__(\n",
    "            l1=F.Linear(M, M, initialW=None, initial_bias=None),\n",
    "        )\n",
    "\n",
    "    def __call__(self, x, T, dt):\n",
    "        xout = integrate_explicit_euler(x, self.l1, dt, T)\n",
    "        return xout"
   ]
  },
  {
   "cell_type": "markdown",
   "metadata": {},
   "source": [
    "Loss function:"
   ]
  },
  {
   "cell_type": "code",
   "execution_count": 30,
   "metadata": {
    "collapsed": true
   },
   "outputs": [],
   "source": [
    "class Loss(Chain):\n",
    "    def __init__(self, predictor):\n",
    "        super(Loss, self).__init__(predictor=predictor)\n",
    "        \n",
    "    def __call__(self, x, x_desired, T ,dt):\n",
    "        x_end = self.predictor(x, T, dt)\n",
    "        #x_desired = V(np.ones(x_end.data.shape[0]).reshape(-1,1) * x_desired)\n",
    "        self.loss = F.mean_squared_error(x_desired, x_end)\n",
    "        return self.loss"
   ]
  },
  {
   "cell_type": "code",
   "execution_count": 165,
   "metadata": {
    "collapsed": true
   },
   "outputs": [],
   "source": [
    "N = 100\n",
    "M = 2\n",
    "T = 500"
   ]
  },
  {
   "cell_type": "code",
   "execution_count": 159,
   "metadata": {
    "collapsed": false
   },
   "outputs": [],
   "source": [
    "from chainer import optimizers\n",
    "model = Loss(MyChain(M))\n",
    "optimizer = optimizers.MomentumSGD(lr = 5e-4, momentum=0.9)\n",
    "optimizer.setup(model)"
   ]
  },
  {
   "cell_type": "code",
   "execution_count": 166,
   "metadata": {
    "collapsed": true
   },
   "outputs": [],
   "source": [
    "x_desired = np.r_[-2,3]\n",
    "x_desired = V(np.ones(N).reshape(-1,1) * x_desired)"
   ]
  },
  {
   "cell_type": "code",
   "execution_count": 169,
   "metadata": {
    "collapsed": false
   },
   "outputs": [
    {
     "name": "stderr",
     "output_type": "stream",
     "text": []
    }
   ],
   "source": [
    "from tqdm import tqdm\n",
    "nepochs = 60\n",
    "dt = 0.002\n",
    "losslist = []\n",
    "for epoch in tqdm(range(nepochs)):\n",
    "    #print('epoch %d' % epoch, end = \"\\t\")\n",
    "    x = V(2*np.random.randn(N,M))\n",
    "    #model.zerograds()\n",
    "    loss = model( x, x_desired, T, dt)\n",
    "    losslist.append(loss.data)\n",
    "    #print(\"loss\", loss.data)\n",
    "    loss.backward()\n",
    "    optimizer.update(model, x, x_desired, T, dt)"
   ]
  },
  {
   "cell_type": "code",
   "execution_count": 170,
   "metadata": {
    "collapsed": false
   },
   "outputs": [
    {
     "data": {
      "text/plain": [
       "<matplotlib.text.Text at 0x7fc878bf6eb8>"
      ]
     },
     "execution_count": 170,
     "metadata": {},
     "output_type": "execute_result"
    },
    {
     "data": {
      "image/png": "[encoded data removed]",
      "text/plain": [
       "<matplotlib.figure.Figure at 0x7fc8789a7278>"
      ]
     },
     "metadata": {},
     "output_type": "display_data"
    }
   ],
   "source": [
    "plt.plot(losslist)\n",
    "plt.title(\"training performance\")\n",
    "plt.xlabel(\"iteration\")\n",
    "plt.ylabel(\"loss\")"
   ]
  },
  {
   "cell_type": "code",
   "execution_count": 171,
   "metadata": {
    "collapsed": false
   },
   "outputs": [
    {
     "name": "stdout",
     "output_type": "stream",
     "text": [
      "optimal control parameters:\n",
      "W\n",
      "------------\n",
      "[[ -9.99031246e-01  -6.40157424e-03]\n",
      " [ -2.82476889e-04  -9.89582837e-01]]\n",
      "b\n",
      "------------\n",
      "[-1.33376479  2.00231671]\n"
     ]
    }
   ],
   "source": [
    "W_opt = model.children().__next__().l1.W.data\n",
    "b_opt = model.children().__next__().l1.b.data\n",
    "print(\"optimal control parameters:\")\n",
    "print(\"W\", \"------------\", W_opt, sep = \"\\n\")\n",
    "print(\"b\", \"------------\", b_opt, sep = \"\\n\")"
   ]
  },
  {
   "cell_type": "code",
   "execution_count": 172,
   "metadata": {
    "collapsed": false
   },
   "outputs": [],
   "source": [
    "optimal_contr = lambda x :( np.tensordot(W_opt, x, axes=([1],[1])) + b_opt[:,np.newaxis]).T"
   ]
  },
  {
   "cell_type": "code",
   "execution_count": null,
   "metadata": {
    "collapsed": false
   },
   "outputs": [],
   "source": []
  },
  {
   "cell_type": "code",
   "execution_count": 173,
   "metadata": {
    "collapsed": false
   },
   "outputs": [
    {
     "data": {
      "text/plain": [
       "<matplotlib.text.Text at 0x7fc878377518>"
      ]
     },
     "execution_count": 173,
     "metadata": {},
     "output_type": "execute_result"
    },
    {
     "name": "stderr",
     "output_type": "stream",
     "text": [
      "/usr/local/lib/python3.4/dist-packages/matplotlib/collections.py:571: FutureWarning: elementwise comparison failed; returning scalar instead, but in the future will perform elementwise comparison\n",
      "  if self._edgecolors == str('face'):\n"
     ]
    },
    {
     "data": {
      "image/png": "[encoded data removed]",
      "text/plain": [
       "<matplotlib.figure.Figure at 0x7fc8785741d0>"
      ]
     },
     "metadata": {},
     "output_type": "display_data"
    }
   ],
   "source": [
    "x = (0.01* np.random.randn(N,M))\n",
    "xout = integrate_explicit_euler(x.copy(), optimal_contr, dt, T)\n",
    "\n",
    "fig, axs = plt.subplots(1,2)\n",
    "axs.ravel()[0].scatter(x[:,0], xout[:,0])\n",
    "axs.ravel()[0].set_title(\"x_0\")\n",
    "axs.ravel()[0].axhline(x_desired.data[0][0], color=\"r\")\n",
    "axs.ravel()[0].set_xlim((np.floor(min((x[:,0]))) , np.ceil(max((x[:,0])) )) )\n",
    "axs.ravel()[0].set_xlabel(\"initial\")\n",
    "axs.ravel()[0].set_ylabel(\"achieved\")\n",
    "\n",
    "axs.ravel()[1].scatter(x[:,1], xout[:,1])\n",
    "axs.ravel()[1].set_title(\"x_1\")\n",
    "axs.ravel()[1].axhline(x_desired.data[0][1], color=\"r\")\n",
    "axs.ravel()[1].set_xlim((np.floor(min((x[:,1]))) , np.ceil(max((x[:,1])) )) )\n",
    "axs.ravel()[1].set_xlabel(\"initial\")\n",
    "axs.ravel()[1].set_ylabel(\"achieved\")"
   ]
  },
  {
   "cell_type": "code",
   "execution_count": null,
   "metadata": {
    "collapsed": false
   },
   "outputs": [],
   "source": []
  }
 ],
 "metadata": {
  "kernelspec": {
   "display_name": "Python 3",
   "language": "python",
   "name": "python3"
  },
  "language_info": {
   "codemirror_mode": {
    "name": "ipython",
    "version": 3
   },
   "file_extension": ".py",
   "mimetype": "text/x-python",
   "name": "python",
   "nbconvert_exporter": "python",
   "pygments_lexer": "ipython3",
   "version": "3.4.3"
  }
 },
 "nbformat": 4,
 "nbformat_minor": 0
}
